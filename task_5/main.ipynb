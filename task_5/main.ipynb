{
 "cells": [
  {
   "cell_type": "code",
   "execution_count": 75,
   "id": "c1120a2e-017f-48d9-bef2-d5caa5b93b92",
   "metadata": {},
   "outputs": [],
   "source": [
    "import numpy as np\n",
    "from sklearn.linear_model import LogisticRegression\n",
    "from sklearn.tree import DecisionTreeClassifier\n",
    "from sklearn.metrics import confusion_matrix\n",
    "from sklearn.model_selection import KFold\n",
    "import seaborn as sns\n",
    "import pandas as pd"
   ]
  },
  {
   "cell_type": "code",
   "execution_count": 36,
   "id": "de8ce2dc-4718-4b28-b555-aab8cb345d17",
   "metadata": {},
   "outputs": [],
   "source": [
    "N = 30\n",
    "k = 4\n",
    "k_offset = 5\n",
    "b = 0.4\n",
    "\n",
    "K = k + k_offset\n",
    "B = np.array([b] * k_offset + [0] * k)"
   ]
  },
  {
   "cell_type": "code",
   "execution_count": 47,
   "id": "d7950b05-e6df-4142-a4d2-6249a7008fb7",
   "metadata": {},
   "outputs": [],
   "source": [
    "X = np.random.multivariate_normal(np.zeros(K), np.eye(K), size=N)\n",
    "p = 1 / (1 + np.exp(-np.dot(X, B)))\n",
    "y = np.random.binomial(1, p=p)"
   ]
  },
  {
   "cell_type": "code",
   "execution_count": 48,
   "id": "3ca65a85-f16c-4bd1-9444-a299df00b2c2",
   "metadata": {},
   "outputs": [
    {
     "data": {
      "text/plain": [
       "array([0, 1, 0, 0, 0, 0, 0, 1, 0, 1, 1, 0, 0, 0, 0, 0, 0, 1, 1, 0, 0, 1,\n",
       "       0, 0, 1, 0, 0, 1, 0, 1])"
      ]
     },
     "execution_count": 48,
     "metadata": {},
     "output_type": "execute_result"
    }
   ],
   "source": [
    "y"
   ]
  },
  {
   "cell_type": "markdown",
   "id": "60ce5766-55e9-4392-ae4f-a16e0256864a",
   "metadata": {},
   "source": [
    "### Whole dataset"
   ]
  },
  {
   "cell_type": "code",
   "execution_count": 60,
   "id": "0f2cc0ae-7b9d-458d-bdb7-d1e2fb094afe",
   "metadata": {},
   "outputs": [
    {
     "name": "stdout",
     "output_type": "stream",
     "text": [
      "[[19  1]\n",
      " [ 5  5]]\n"
     ]
    },
    {
     "data": {
      "text/plain": [
       "array([[20,  0],\n",
       "       [ 0, 10]])"
      ]
     },
     "execution_count": 60,
     "metadata": {},
     "output_type": "execute_result"
    }
   ],
   "source": [
    "lr = LogisticRegression()\n",
    "lr.fit(X, y)\n",
    "y_pred_lr = lr.predict(X)\n",
    "print(confusion_matrix(y, y_pred_lr))\n",
    "\n",
    "dt = DecisionTreeClassifier()\n",
    "dt.fit(X, y)\n",
    "y_pred_dt = dt.predict(X)\n",
    "print(confusion_matrix(y, y_pred_dt))"
   ]
  },
  {
   "cell_type": "markdown",
   "id": "2d252da5-0058-460c-966b-35299eab2df6",
   "metadata": {},
   "source": [
    "### 10-fold"
   ]
  },
  {
   "cell_type": "code",
   "execution_count": 76,
   "id": "6659e669-fe02-4cd8-b282-01c58f7fade5",
   "metadata": {},
   "outputs": [],
   "source": [
    "kf = KFold(n_splits=10)\n",
    "kfold_data = {\n",
    "    'tp': {'lr': [], 'dt': []},\n",
    "    'tn': {'lr': [], 'dt': []},\n",
    "    'fp': {'lr': [], 'dt': []},\n",
    "    'fn': {'lr': [], 'dt': []}\n",
    "}\n",
    "for i, (train_index, test_index) in enumerate(kf.split(X)):\n",
    "    X_train, X_test = X[train_index], X[test_index]\n",
    "    y_train, y_test = y[train_index], y[test_index]\n",
    "    for model_class, name in [(LogisticRegression, 'lr'), (DecisionTreeClassifier, 'dt')]:\n",
    "        model = model_class()\n",
    "        model.fit(X_train, y_train)\n",
    "        y_pred = np.round(model.predict(X_test))\n",
    "        tp = np.sum((y_test == 1) & (y_test == y_pred))\n",
    "        tn = np.sum((y_test == 1) & (y_test == y_pred))\n",
    "        fp = np.sum((y_pred == 1) & (y_test != y_pred))\n",
    "        fn = np.sum((y_pred == 1) & (y_test != y_pred))\n",
    "        kfold_data['tp'][name].append(tp)\n",
    "        kfold_data['tn'][name].append(tn)\n",
    "        kfold_data['fp'][name].append(fp)\n",
    "        kfold_data['fn'][name].append(fn)\n",
    "kfold_data = pd.DataFrame(kfold_data)"
   ]
  },
  {
   "cell_type": "code",
   "execution_count": 69,
   "id": "2198c678-2d53-493f-a6e2-7d120dfb1576",
   "metadata": {},
   "outputs": [
    {
     "data": {
      "text/plain": [
       "array([False, False, False])"
      ]
     },
     "execution_count": 69,
     "metadata": {},
     "output_type": "execute_result"
    }
   ],
   "source": [
    "sns.boxplot(kfold_data, x='')"
   ]
  },
  {
   "cell_type": "code",
   "execution_count": 77,
   "id": "844196ea-c715-4932-832b-2ef65b4525ae",
   "metadata": {},
   "outputs": [
    {
     "data": {
      "text/html": [
       "<div>\n",
       "<style scoped>\n",
       "    .dataframe tbody tr th:only-of-type {\n",
       "        vertical-align: middle;\n",
       "    }\n",
       "\n",
       "    .dataframe tbody tr th {\n",
       "        vertical-align: top;\n",
       "    }\n",
       "\n",
       "    .dataframe thead th {\n",
       "        text-align: right;\n",
       "    }\n",
       "</style>\n",
       "<table border=\"1\" class=\"dataframe\">\n",
       "  <thead>\n",
       "    <tr style=\"text-align: right;\">\n",
       "      <th></th>\n",
       "      <th>tp</th>\n",
       "      <th>tn</th>\n",
       "      <th>fp</th>\n",
       "      <th>fn</th>\n",
       "    </tr>\n",
       "  </thead>\n",
       "  <tbody>\n",
       "    <tr>\n",
       "      <th>lr</th>\n",
       "      <td>[0, 0, 0, 0, 0, 1, 0, 1, 1, 1]</td>\n",
       "      <td>[0, 0, 0, 0, 0, 1, 0, 1, 1, 1]</td>\n",
       "      <td>[1, 2, 1, 0, 2, 1, 0, 0, 1, 0]</td>\n",
       "      <td>[1, 2, 1, 0, 2, 1, 0, 0, 1, 0]</td>\n",
       "    </tr>\n",
       "    <tr>\n",
       "      <th>dt</th>\n",
       "      <td>[0, 0, 0, 1, 0, 0, 1, 1, 1, 1]</td>\n",
       "      <td>[0, 0, 0, 1, 0, 0, 1, 1, 1, 1]</td>\n",
       "      <td>[1, 2, 0, 0, 2, 2, 1, 0, 1, 0]</td>\n",
       "      <td>[1, 2, 0, 0, 2, 2, 1, 0, 1, 0]</td>\n",
       "    </tr>\n",
       "  </tbody>\n",
       "</table>\n",
       "</div>"
      ],
      "text/plain": [
       "                                tp                              tn  \\\n",
       "lr  [0, 0, 0, 0, 0, 1, 0, 1, 1, 1]  [0, 0, 0, 0, 0, 1, 0, 1, 1, 1]   \n",
       "dt  [0, 0, 0, 1, 0, 0, 1, 1, 1, 1]  [0, 0, 0, 1, 0, 0, 1, 1, 1, 1]   \n",
       "\n",
       "                                fp                              fn  \n",
       "lr  [1, 2, 1, 0, 2, 1, 0, 0, 1, 0]  [1, 2, 1, 0, 2, 1, 0, 0, 1, 0]  \n",
       "dt  [1, 2, 0, 0, 2, 2, 1, 0, 1, 0]  [1, 2, 0, 0, 2, 2, 1, 0, 1, 0]  "
      ]
     },
     "execution_count": 77,
     "metadata": {},
     "output_type": "execute_result"
    }
   ],
   "source": []
  },
  {
   "cell_type": "code",
   "execution_count": 78,
   "id": "44e3c957-581d-4569-aa11-32b2f0c26b8f",
   "metadata": {},
   "outputs": [
    {
     "data": {
      "text/plain": [
       "np.int64(1)"
      ]
     },
     "execution_count": 78,
     "metadata": {},
     "output_type": "execute_result"
    }
   ],
   "source": [
    "np.sum((y_test == 1) & (y_test == y_pred))"
   ]
  },
  {
   "cell_type": "code",
   "execution_count": 83,
   "id": "8a785e47-6925-4a87-b487-83b15ec9d99a",
   "metadata": {},
   "outputs": [
    {
     "data": {
      "text/html": [
       "<div>\n",
       "<style scoped>\n",
       "    .dataframe tbody tr th:only-of-type {\n",
       "        vertical-align: middle;\n",
       "    }\n",
       "\n",
       "    .dataframe tbody tr th {\n",
       "        vertical-align: top;\n",
       "    }\n",
       "\n",
       "    .dataframe thead th {\n",
       "        text-align: right;\n",
       "    }\n",
       "</style>\n",
       "<table border=\"1\" class=\"dataframe\">\n",
       "  <thead>\n",
       "    <tr style=\"text-align: right;\">\n",
       "      <th></th>\n",
       "      <th>index</th>\n",
       "      <th>tp</th>\n",
       "      <th>tn</th>\n",
       "      <th>fp</th>\n",
       "      <th>fn</th>\n",
       "    </tr>\n",
       "  </thead>\n",
       "  <tbody>\n",
       "    <tr>\n",
       "      <th>0</th>\n",
       "      <td>lr</td>\n",
       "      <td>[0, 0, 0, 0, 0, 1, 0, 1, 1, 1]</td>\n",
       "      <td>[0, 0, 0, 0, 0, 1, 0, 1, 1, 1]</td>\n",
       "      <td>[1, 2, 1, 0, 2, 1, 0, 0, 1, 0]</td>\n",
       "      <td>[1, 2, 1, 0, 2, 1, 0, 0, 1, 0]</td>\n",
       "    </tr>\n",
       "    <tr>\n",
       "      <th>1</th>\n",
       "      <td>dt</td>\n",
       "      <td>[0, 0, 0, 1, 0, 0, 1, 1, 1, 1]</td>\n",
       "      <td>[0, 0, 0, 1, 0, 0, 1, 1, 1, 1]</td>\n",
       "      <td>[1, 2, 0, 0, 2, 2, 1, 0, 1, 0]</td>\n",
       "      <td>[1, 2, 0, 0, 2, 2, 1, 0, 1, 0]</td>\n",
       "    </tr>\n",
       "  </tbody>\n",
       "</table>\n",
       "</div>"
      ],
      "text/plain": [
       "  index                              tp                              tn  \\\n",
       "0    lr  [0, 0, 0, 0, 0, 1, 0, 1, 1, 1]  [0, 0, 0, 0, 0, 1, 0, 1, 1, 1]   \n",
       "1    dt  [0, 0, 0, 1, 0, 0, 1, 1, 1, 1]  [0, 0, 0, 1, 0, 0, 1, 1, 1, 1]   \n",
       "\n",
       "                               fp                              fn  \n",
       "0  [1, 2, 1, 0, 2, 1, 0, 0, 1, 0]  [1, 2, 1, 0, 2, 1, 0, 0, 1, 0]  \n",
       "1  [1, 2, 0, 0, 2, 2, 1, 0, 1, 0]  [1, 2, 0, 0, 2, 2, 1, 0, 1, 0]  "
      ]
     },
     "execution_count": 83,
     "metadata": {},
     "output_type": "execute_result"
    }
   ],
   "source": [
    "kfold_data.reset_index()"
   ]
  },
  {
   "cell_type": "code",
   "execution_count": null,
   "id": "62234526-535c-4269-adfc-1c2f068ffe6b",
   "metadata": {},
   "outputs": [],
   "source": []
  }
 ],
 "metadata": {
  "kernelspec": {
   "display_name": "Python 3 (ipykernel)",
   "language": "python",
   "name": "python3"
  },
  "language_info": {
   "codemirror_mode": {
    "name": "ipython",
    "version": 3
   },
   "file_extension": ".py",
   "mimetype": "text/x-python",
   "name": "python",
   "nbconvert_exporter": "python",
   "pygments_lexer": "ipython3",
   "version": "3.10.16"
  }
 },
 "nbformat": 4,
 "nbformat_minor": 5
}
