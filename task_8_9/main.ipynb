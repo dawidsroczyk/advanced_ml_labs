{
 "cells": [
  {
   "cell_type": "code",
   "execution_count": 1,
   "id": "f71e9756-af31-4d53-9765-88bd1f1346b6",
   "metadata": {},
   "outputs": [],
   "source": [
    "import numpy as np\n",
    "import matplotlib.pyplot as plt\n",
    "import seaborn as sns\n",
    "from sklearn.tree import DecisionTreeClassifier\n",
    "from sklearn.model_selection import train_test_split"
   ]
  },
  {
   "cell_type": "code",
   "execution_count": 11,
   "id": "dd10edcb",
   "metadata": {},
   "outputs": [],
   "source": [
    "class AdaBoost:\n",
    "    def __init__(self, B, base_learner_factory=None):\n",
    "        self.B = B\n",
    "        self.base_learner_factory = base_learner_factory\n",
    "        if base_learner_factory is None:\n",
    "            def create_stump():\n",
    "                model = DecisionTreeClassifier(max_depth=1)\n",
    "                return model\n",
    "            self.base_learner_factory = create_stump\n",
    "        self.ensemble = None\n",
    "    \n",
    "    def predict(self, X, num_ensembles=None):\n",
    "        if num_ensembles == None:\n",
    "            num_ensembles = len(self.ensemble)\n",
    "        num_ensembles = max(0, num_ensembles)\n",
    "        num_ensembles = min(num_ensembles, len(self.ensemble))\n",
    "        ensemble = self.ensemble[:num_ensembles]\n",
    "\n",
    "        y_pred = []\n",
    "        for i in range(len(ensemble)):\n",
    "            y_pred_i = self.ensemble[i][0].predict(X)\n",
    "            y_pred.append(y_pred_i)\n",
    "        y_pred = np.vstack(y_pred).T\n",
    "        betas = np.array([x[1] for x in ensemble])\n",
    "        y_1_val = np.sum((y_pred == 1).astype(int) * np.log(1 / betas), axis=1)\n",
    "        y_minus1_val = np.sum((y_pred == -1).astype(int) * np.log(1 / betas), axis=1)\n",
    "        y_pred = (y_1_val > y_minus1_val).astype(int) * 2 - 1\n",
    "        return y_pred\n",
    "\n",
    "    def fit(self, X, y):\n",
    "        self.ensemble = []\n",
    "        w = np.ones(len(y)) / len(y)\n",
    "        for i in range(self.B):\n",
    "            bl = self.base_learner_factory()\n",
    "            bl.fit(X, y, w)\n",
    "            y_train_pred = bl.predict(X)\n",
    "            fail_idx = y != y_train_pred\n",
    "            eps = w[fail_idx].sum()\n",
    "            beta = eps / (1 - eps)\n",
    "            self.ensemble.append((bl, beta))\n",
    "            w[~fail_idx] *= beta\n",
    "            w /= w.sum()"
   ]
  },
  {
   "cell_type": "code",
   "execution_count": 12,
   "id": "2e8fe2ef-df44-4cf0-913a-6e034c47e8f2",
   "metadata": {},
   "outputs": [],
   "source": [
    "df = 10\n",
    "n = 10000\n",
    "\n",
    "X = np.pow(np.random.normal(size=(n, df)), 2)\n",
    "y = (X.sum(axis=1) > np.median(X.sum(axis=1))).astype(int) * 2 - 1\n",
    "X_train, X_test, y_train, y_test = train_test_split(X, y, test_size=0.2)"
   ]
  },
  {
   "cell_type": "code",
   "execution_count": null,
   "id": "773e40bc-8064-4354-bddb-555d3abeb9bd",
   "metadata": {},
   "outputs": [],
   "source": []
  }
 ],
 "metadata": {
  "kernelspec": {
   "display_name": "Python 3 (ipykernel)",
   "language": "python",
   "name": "python3"
  },
  "language_info": {
   "codemirror_mode": {
    "name": "ipython",
    "version": 3
   },
   "file_extension": ".py",
   "mimetype": "text/x-python",
   "name": "python",
   "nbconvert_exporter": "python",
   "pygments_lexer": "ipython3",
   "version": "3.10.16"
  }
 },
 "nbformat": 4,
 "nbformat_minor": 5
}
