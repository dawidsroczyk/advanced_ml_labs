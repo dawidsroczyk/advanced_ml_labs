{
 "cells": [
  {
   "cell_type": "code",
   "execution_count": 1,
   "id": "f71e9756-af31-4d53-9765-88bd1f1346b6",
   "metadata": {},
   "outputs": [],
   "source": [
    "import numpy as np\n",
    "import matplotlib.pyplot as plt\n",
    "import seaborn as sns\n",
    "from sklearn.tree import DecisionTreeClassifier\n",
    "from sklearn.model_selection import train_test_split"
   ]
  },
  {
   "cell_type": "code",
   "execution_count": 38,
   "id": "556011a9-4a71-44bc-a007-349615b6ac45",
   "metadata": {},
   "outputs": [],
   "source": [
    "B = 7\n",
    "def create_base_learner():\n",
    "    model = DecisionTreeClassifier(max_depth=2)\n",
    "    return model"
   ]
  },
  {
   "cell_type": "code",
   "execution_count": 39,
   "id": "2e8fe2ef-df44-4cf0-913a-6e034c47e8f2",
   "metadata": {},
   "outputs": [],
   "source": [
    "df = 10\n",
    "n = 10000\n",
    "\n",
    "X = np.pow(np.random.normal(size=(n, df)), 2)\n",
    "y = (X.sum(axis=1) > np.median(X.sum(axis=1))).astype(int) * 2 - 1\n",
    "X_train, X_test, y_train, y_test = train_test_split(X, y, test_size=0.2)"
   ]
  },
  {
   "cell_type": "code",
   "execution_count": 40,
   "id": "725a3b0d-319a-4783-8bc2-ecb74d978d96",
   "metadata": {},
   "outputs": [],
   "source": [
    "def predict(ensemble, X):\n",
    "    y_pred = []\n",
    "    for i in range(len(ensemble)):\n",
    "        y_pred_i = ensemble[i][0].predict(X)\n",
    "        y_pred.append(y_pred_i)\n",
    "    y_pred = np.vstack(y_pred).reshape((-1, len(ensemble)))\n",
    "    betas = np.array([x[1] for x in ensemble])\n",
    "    y_1_val = np.sum((y_pred == 1).astype(int) * np.log(1 / betas), axis=1)\n",
    "    y_minus1_val = np.sum((y_pred == -1).astype(int) * np.log(1 / betas), axis=1)\n",
    "    y_pred = (y_1_val > y_minus1_val).astype(int) * 2 - 1\n",
    "    return y_pred"
   ]
  },
  {
   "cell_type": "code",
   "execution_count": 47,
   "id": "240db212-cb21-43f6-8031-053e82ecc248",
   "metadata": {},
   "outputs": [
    {
     "name": "stdout",
     "output_type": "stream",
     "text": [
      "0.7217500000000002\n",
      "2887\n",
      "0.7456720919820302\n",
      "2828\n",
      "0.7459214525505414\n",
      "2852\n",
      "0.679706710818345\n",
      "4010\n",
      "0.6572117108697465\n",
      "2884\n",
      "0.7031991603930468\n",
      "2960\n",
      "0.7402530265511025\n",
      "4010\n"
     ]
    }
   ],
   "source": [
    "ensemble = []\n",
    "acc = []\n",
    "w = np.ones(len(y_train)) / len(y_train)\n",
    "for i in range(B):\n",
    "    bl = create_base_learner()\n",
    "    bl.fit(X_train, y_train, w)\n",
    "    y_train_pred = bl.predict(X_train)\n",
    "    fail_idx = y_train != y_train_pred\n",
    "    eps = w[fail_idx].sum()\n",
    "    beta = eps / (1 - eps)\n",
    "    ensemble.append((bl, beta))\n",
    "    w[~fail_idx] *= beta\n",
    "    w /= w.sum()\n",
    "\n",
    "    print(sum(fail_idx))\n",
    "\n",
    "    y_test_pred = predict(ensemble, X_train)\n",
    "    acc.append((y_train == y_test_pred).astype(int).sum() / y_train.shape[0])"
   ]
  },
  {
   "cell_type": "code",
   "execution_count": 46,
   "id": "fea5024f-bbc0-409e-bd06-fed2df97bf85",
   "metadata": {},
   "outputs": [
    {
     "data": {
      "text/plain": [
       "[<matplotlib.lines.Line2D at 0x72e19e645de0>]"
      ]
     },
     "execution_count": 46,
     "metadata": {},
     "output_type": "execute_result"
    },
    {
     "data": {
      "image/png": "[encoded data removed]",
      "text/plain": [
       "<Figure size 640x480 with 1 Axes>"
      ]
     },
     "metadata": {},
     "output_type": "display_data"
    }
   ],
   "source": [
    "plt.plot(acc)"
   ]
  },
  {
   "cell_type": "code",
   "execution_count": null,
   "id": "773e40bc-8064-4354-bddb-555d3abeb9bd",
   "metadata": {},
   "outputs": [],
   "source": []
  }
 ],
 "metadata": {
  "kernelspec": {
   "display_name": "Python 3 (ipykernel)",
   "language": "python",
   "name": "python3"
  },
  "language_info": {
   "codemirror_mode": {
    "name": "ipython",
    "version": 3
   },
   "file_extension": ".py",
   "mimetype": "text/x-python",
   "name": "python",
   "nbconvert_exporter": "python",
   "pygments_lexer": "ipython3",
   "version": "3.10.16"
  }
 },
 "nbformat": 4,
 "nbformat_minor": 5
}
